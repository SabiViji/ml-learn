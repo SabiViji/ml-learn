{
 "cells": [
  {
   "cell_type": "markdown",
   "id": "07e26aa0",
   "metadata": {},
   "source": [
    "# Data: Lake Michigan Waves\n",
    "\n",
    "https://data.cityofchicago.org/Parks-Recreation/Beach-Water-Quality-Automated-Sensors/qmqz-2xku\n",
    "\n",
    "Predict wave height based on wave period"
   ]
  },
  {
   "cell_type": "code",
   "execution_count": 1,
   "id": "83fe3ad7",
   "metadata": {},
   "outputs": [],
   "source": [
    "import numpy as np\n",
    "import pandas as pd\n",
    "import matplotlib.pyplot as plt"
   ]
  },
  {
   "cell_type": "code",
   "execution_count": 5,
   "id": "5ac67ad6",
   "metadata": {},
   "outputs": [
    {
     "data": {
      "text/html": [
       "<div>\n",
       "<style scoped>\n",
       "    .dataframe tbody tr th:only-of-type {\n",
       "        vertical-align: middle;\n",
       "    }\n",
       "\n",
       "    .dataframe tbody tr th {\n",
       "        vertical-align: top;\n",
       "    }\n",
       "\n",
       "    .dataframe thead th {\n",
       "        text-align: right;\n",
       "    }\n",
       "</style>\n",
       "<table border=\"1\" class=\"dataframe\">\n",
       "  <thead>\n",
       "    <tr style=\"text-align: right;\">\n",
       "      <th></th>\n",
       "      <th>Beach Name</th>\n",
       "      <th>Measurement Timestamp</th>\n",
       "      <th>Water Temperature</th>\n",
       "      <th>Turbidity</th>\n",
       "      <th>Transducer Depth</th>\n",
       "      <th>Wave Height</th>\n",
       "      <th>Wave Period</th>\n",
       "      <th>Battery Life</th>\n",
       "      <th>Measurement Timestamp Label</th>\n",
       "      <th>Measurement ID</th>\n",
       "    </tr>\n",
       "  </thead>\n",
       "  <tbody>\n",
       "    <tr>\n",
       "      <th>0</th>\n",
       "      <td>Calumet Beach</td>\n",
       "      <td>04/07/2018 12:30:00 AM</td>\n",
       "      <td>21.7</td>\n",
       "      <td>3.15</td>\n",
       "      <td>NaN</td>\n",
       "      <td>0.389</td>\n",
       "      <td>3.0</td>\n",
       "      <td>0.0</td>\n",
       "      <td>04/07/2018 12:30 AM</td>\n",
       "      <td>CalumetBeach201804072430</td>\n",
       "    </tr>\n",
       "    <tr>\n",
       "      <th>1</th>\n",
       "      <td>Ohio Street Beach</td>\n",
       "      <td>06/14/2019 07:00:00 PM</td>\n",
       "      <td>16.0</td>\n",
       "      <td>2.18</td>\n",
       "      <td>NaN</td>\n",
       "      <td>0.137</td>\n",
       "      <td>3.0</td>\n",
       "      <td>11.8</td>\n",
       "      <td>06/14/2019 7:00 PM</td>\n",
       "      <td>OhioStreetBeach201906141900</td>\n",
       "    </tr>\n",
       "    <tr>\n",
       "      <th>2</th>\n",
       "      <td>Ohio Street Beach</td>\n",
       "      <td>05/16/2018 01:00:00 PM</td>\n",
       "      <td>21.7</td>\n",
       "      <td>1.92</td>\n",
       "      <td>NaN</td>\n",
       "      <td>0.023</td>\n",
       "      <td>1.0</td>\n",
       "      <td>10.3</td>\n",
       "      <td>05/16/2018 1:00 PM</td>\n",
       "      <td>OhioStreetBeach201805161300</td>\n",
       "    </tr>\n",
       "    <tr>\n",
       "      <th>3</th>\n",
       "      <td>Ohio Street Beach</td>\n",
       "      <td>05/16/2018 02:00:00 PM</td>\n",
       "      <td>21.9</td>\n",
       "      <td>1.81</td>\n",
       "      <td>NaN</td>\n",
       "      <td>0.026</td>\n",
       "      <td>6.0</td>\n",
       "      <td>10.3</td>\n",
       "      <td>05/16/2018 2:00 PM</td>\n",
       "      <td>OhioStreetBeach201805161400</td>\n",
       "    </tr>\n",
       "    <tr>\n",
       "      <th>4</th>\n",
       "      <td>Ohio Street Beach</td>\n",
       "      <td>06/04/2018 09:00:00 AM</td>\n",
       "      <td>23.0</td>\n",
       "      <td>0.03</td>\n",
       "      <td>NaN</td>\n",
       "      <td>0.021</td>\n",
       "      <td>8.0</td>\n",
       "      <td>12.4</td>\n",
       "      <td>06/04/2018 9:00 AM</td>\n",
       "      <td>OhioStreetBeach201806040900</td>\n",
       "    </tr>\n",
       "  </tbody>\n",
       "</table>\n",
       "</div>"
      ],
      "text/plain": [
       "          Beach Name   Measurement Timestamp  Water Temperature  Turbidity  \\\n",
       "0      Calumet Beach  04/07/2018 12:30:00 AM               21.7       3.15   \n",
       "1  Ohio Street Beach  06/14/2019 07:00:00 PM               16.0       2.18   \n",
       "2  Ohio Street Beach  05/16/2018 01:00:00 PM               21.7       1.92   \n",
       "3  Ohio Street Beach  05/16/2018 02:00:00 PM               21.9       1.81   \n",
       "4  Ohio Street Beach  06/04/2018 09:00:00 AM               23.0       0.03   \n",
       "\n",
       "   Transducer Depth  Wave Height  Wave Period  Battery Life  \\\n",
       "0               NaN        0.389          3.0           0.0   \n",
       "1               NaN        0.137          3.0          11.8   \n",
       "2               NaN        0.023          1.0          10.3   \n",
       "3               NaN        0.026          6.0          10.3   \n",
       "4               NaN        0.021          8.0          12.4   \n",
       "\n",
       "  Measurement Timestamp Label               Measurement ID  \n",
       "0         04/07/2018 12:30 AM     CalumetBeach201804072430  \n",
       "1          06/14/2019 7:00 PM  OhioStreetBeach201906141900  \n",
       "2          05/16/2018 1:00 PM  OhioStreetBeach201805161300  \n",
       "3          05/16/2018 2:00 PM  OhioStreetBeach201805161400  \n",
       "4          06/04/2018 9:00 AM  OhioStreetBeach201806040900  "
      ]
     },
     "execution_count": 5,
     "metadata": {},
     "output_type": "execute_result"
    }
   ],
   "source": [
    "df = pd.read_csv(\"~/datasets/Beach_Water_Quality_-_Automated_Sensors.csv\")\n",
    "df.head()"
   ]
  },
  {
   "cell_type": "code",
   "execution_count": 8,
   "id": "1cb4d77f",
   "metadata": {},
   "outputs": [
    {
     "data": {
      "text/plain": [
       "<AxesSubplot:xlabel='Wave Period', ylabel='Wave Height'>"
      ]
     },
     "execution_count": 8,
     "metadata": {},
     "output_type": "execute_result"
    },
    {
     "data": {
      "image/png": "[encoded data removed]",
      "text/plain": [
       "<Figure size 432x288 with 1 Axes>"
      ]
     },
     "metadata": {
      "needs_background": "light"
     },
     "output_type": "display_data"
    }
   ],
   "source": [
    "df = df[(df[\"Wave Period\"] > 0) & (df[\"Wave Height\"] > 0)]\n",
    "df.plot.scatter(x=\"Wave Period\", y=\"Wave Height\", color=\"k\", alpha=0.05)"
   ]
  },
  {
   "cell_type": "code",
   "execution_count": 12,
   "id": "f85e3334",
   "metadata": {},
   "outputs": [
    {
     "data": {
      "text/plain": [
       "['63rd Street Beach',\n",
       " 'Calumet Beach',\n",
       " 'Montrose Beach',\n",
       " 'Ohio Street Beach',\n",
       " 'Osterman Beach',\n",
       " 'Rainbow Beach']"
      ]
     },
     "execution_count": 12,
     "metadata": {},
     "output_type": "execute_result"
    }
   ],
   "source": [
    "beach_names = sorted(set(df[\"Beach Name\"]))\n",
    "beach_names"
   ]
  },
  {
   "cell_type": "code",
   "execution_count": 13,
   "id": "89798302",
   "metadata": {},
   "outputs": [
    {
     "data": {
      "image/png": "[encoded data removed]",
      "text/plain": [
       "<Figure size 864x576 with 6 Axes>"
      ]
     },
     "metadata": {
      "needs_background": "light"
     },
     "output_type": "display_data"
    }
   ],
   "source": [
    "fig, axes = plt.subplots(2, 3, figsize=(12, 8), sharey=True)\n",
    "plt.subplots_adjust(hspace=0.3)\n",
    "axes = list(axes.reshape(-1))\n",
    "for b in beach_names:\n",
    "    ax = axes.pop(0)\n",
    "    ax.set_title(b)\n",
    "    beach_df = df[df[\"Beach Name\"] == b]\n",
    "    beach_df.plot.scatter(x=\"Wave Period\", y=\"Wave Height\", color=\"k\", alpha=0.1, ax=ax)\n",
    "\n",
    "# Observation: beaches have distinct patterns (use OneHot encoding)"
   ]
  },
  {
   "cell_type": "markdown",
   "id": "c1c660c2",
   "metadata": {},
   "source": [
    "### Four Models\n",
    "\n",
    "1. wave period (linear)\n",
    "2. wave period (polynomial)\n",
    "3. beach\n",
    "4. beach and wave period"
   ]
  },
  {
   "cell_type": "code",
   "execution_count": 18,
   "id": "0b0fba2b",
   "metadata": {},
   "outputs": [],
   "source": [
    "from sklearn.model_selection import train_test_split, cross_val_score\n",
    "from sklearn.linear_model import LinearRegression\n",
    "from sklearn.pipeline import Pipeline\n",
    "from sklearn.preprocessing import PolynomialFeatures, OneHotEncoder\n",
    "from sklearn.compose import make_column_transformer"
   ]
  },
  {
   "cell_type": "code",
   "execution_count": 19,
   "id": "931b0439",
   "metadata": {},
   "outputs": [
    {
     "data": {
      "text/plain": [
       "(29871, 9958)"
      ]
     },
     "execution_count": 19,
     "metadata": {},
     "output_type": "execute_result"
    }
   ],
   "source": [
    "train_df, test_df = train_test_split(df)\n",
    "len(train_df), len(test_df)"
   ]
  },
  {
   "cell_type": "markdown",
   "id": "64fcf731",
   "metadata": {},
   "source": [
    "###### linear"
   ]
  },
  {
   "cell_type": "code",
   "execution_count": 23,
   "id": "51143c51",
   "metadata": {},
   "outputs": [
    {
     "name": "stdout",
     "output_type": "stream",
     "text": [
      "0.0030354804199819174\n"
     ]
    },
    {
     "data": {
      "text/plain": [
       "0.0027938067311175097"
      ]
     },
     "execution_count": 23,
     "metadata": {},
     "output_type": "execute_result"
    }
   ],
   "source": [
    "m1 = LinearRegression()\n",
    "m1.fit(train_df[[\"Wave Period\"]], train_df[\"Wave Height\"])\n",
    "print(m1.score(test_df[[\"Wave Period\"]], test_df[\"Wave Height\"]))\n",
    "scores = cross_val_score(m1, train_df[[\"Wave Period\"]], train_df[\"Wave Height\"], cv=10)\n",
    "scores.mean()"
   ]
  },
  {
   "cell_type": "markdown",
   "id": "493bda37",
   "metadata": {},
   "source": [
    "###### polynomial"
   ]
  },
  {
   "cell_type": "code",
   "execution_count": 26,
   "id": "df703ea5",
   "metadata": {},
   "outputs": [
    {
     "data": {
      "text/html": [
       "<div>\n",
       "<style scoped>\n",
       "    .dataframe tbody tr th:only-of-type {\n",
       "        vertical-align: middle;\n",
       "    }\n",
       "\n",
       "    .dataframe tbody tr th {\n",
       "        vertical-align: top;\n",
       "    }\n",
       "\n",
       "    .dataframe thead th {\n",
       "        text-align: right;\n",
       "    }\n",
       "</style>\n",
       "<table border=\"1\" class=\"dataframe\">\n",
       "  <thead>\n",
       "    <tr style=\"text-align: right;\">\n",
       "      <th></th>\n",
       "      <th>Wave Period</th>\n",
       "      <th>Period Squared</th>\n",
       "      <th>Period Cubed</th>\n",
       "    </tr>\n",
       "  </thead>\n",
       "  <tbody>\n",
       "    <tr>\n",
       "      <th>19962</th>\n",
       "      <td>8.0</td>\n",
       "      <td>64.0</td>\n",
       "      <td>512.0</td>\n",
       "    </tr>\n",
       "    <tr>\n",
       "      <th>2283</th>\n",
       "      <td>4.0</td>\n",
       "      <td>16.0</td>\n",
       "      <td>64.0</td>\n",
       "    </tr>\n",
       "    <tr>\n",
       "      <th>33720</th>\n",
       "      <td>3.0</td>\n",
       "      <td>9.0</td>\n",
       "      <td>27.0</td>\n",
       "    </tr>\n",
       "    <tr>\n",
       "      <th>17385</th>\n",
       "      <td>4.0</td>\n",
       "      <td>16.0</td>\n",
       "      <td>64.0</td>\n",
       "    </tr>\n",
       "    <tr>\n",
       "      <th>3674</th>\n",
       "      <td>5.0</td>\n",
       "      <td>25.0</td>\n",
       "      <td>125.0</td>\n",
       "    </tr>\n",
       "    <tr>\n",
       "      <th>...</th>\n",
       "      <td>...</td>\n",
       "      <td>...</td>\n",
       "      <td>...</td>\n",
       "    </tr>\n",
       "    <tr>\n",
       "      <th>15334</th>\n",
       "      <td>3.0</td>\n",
       "      <td>9.0</td>\n",
       "      <td>27.0</td>\n",
       "    </tr>\n",
       "    <tr>\n",
       "      <th>10044</th>\n",
       "      <td>4.0</td>\n",
       "      <td>16.0</td>\n",
       "      <td>64.0</td>\n",
       "    </tr>\n",
       "    <tr>\n",
       "      <th>30138</th>\n",
       "      <td>3.0</td>\n",
       "      <td>9.0</td>\n",
       "      <td>27.0</td>\n",
       "    </tr>\n",
       "    <tr>\n",
       "      <th>29016</th>\n",
       "      <td>3.0</td>\n",
       "      <td>9.0</td>\n",
       "      <td>27.0</td>\n",
       "    </tr>\n",
       "    <tr>\n",
       "      <th>29339</th>\n",
       "      <td>3.0</td>\n",
       "      <td>9.0</td>\n",
       "      <td>27.0</td>\n",
       "    </tr>\n",
       "  </tbody>\n",
       "</table>\n",
       "<p>29871 rows × 3 columns</p>\n",
       "</div>"
      ],
      "text/plain": [
       "       Wave Period  Period Squared  Period Cubed\n",
       "19962          8.0            64.0         512.0\n",
       "2283           4.0            16.0          64.0\n",
       "33720          3.0             9.0          27.0\n",
       "17385          4.0            16.0          64.0\n",
       "3674           5.0            25.0         125.0\n",
       "...            ...             ...           ...\n",
       "15334          3.0             9.0          27.0\n",
       "10044          4.0            16.0          64.0\n",
       "30138          3.0             9.0          27.0\n",
       "29016          3.0             9.0          27.0\n",
       "29339          3.0             9.0          27.0\n",
       "\n",
       "[29871 rows x 3 columns]"
      ]
     },
     "execution_count": 26,
     "metadata": {},
     "output_type": "execute_result"
    }
   ],
   "source": [
    "# manually\n",
    "demo = train_df[[\"Wave Period\"]].copy()\n",
    "demo[\"Period Squared\"] = demo[\"Wave Period\"] ** 2\n",
    "demo[\"Period Cubed\"] = demo[\"Wave Period\"] ** 3\n",
    "demo"
   ]
  },
  {
   "cell_type": "code",
   "execution_count": 33,
   "id": "94460b9b",
   "metadata": {},
   "outputs": [
    {
     "name": "stderr",
     "output_type": "stream",
     "text": [
      "/home/sabi/system/miniconda3/envs/ml/lib/python3.9/site-packages/sklearn/utils/deprecation.py:87: FutureWarning: Function get_feature_names is deprecated; get_feature_names is deprecated in 1.0 and will be removed in 1.2. Please use get_feature_names_out instead.\n",
      "  warnings.warn(msg, category=FutureWarning)\n"
     ]
    },
    {
     "data": {
      "text/html": [
       "<div>\n",
       "<style scoped>\n",
       "    .dataframe tbody tr th:only-of-type {\n",
       "        vertical-align: middle;\n",
       "    }\n",
       "\n",
       "    .dataframe tbody tr th {\n",
       "        vertical-align: top;\n",
       "    }\n",
       "\n",
       "    .dataframe thead th {\n",
       "        text-align: right;\n",
       "    }\n",
       "</style>\n",
       "<table border=\"1\" class=\"dataframe\">\n",
       "  <thead>\n",
       "    <tr style=\"text-align: right;\">\n",
       "      <th></th>\n",
       "      <th>Period</th>\n",
       "      <th>Period^2</th>\n",
       "      <th>Period^3</th>\n",
       "    </tr>\n",
       "  </thead>\n",
       "  <tbody>\n",
       "    <tr>\n",
       "      <th>0</th>\n",
       "      <td>8.0</td>\n",
       "      <td>64.0</td>\n",
       "      <td>512.0</td>\n",
       "    </tr>\n",
       "    <tr>\n",
       "      <th>1</th>\n",
       "      <td>4.0</td>\n",
       "      <td>16.0</td>\n",
       "      <td>64.0</td>\n",
       "    </tr>\n",
       "    <tr>\n",
       "      <th>2</th>\n",
       "      <td>3.0</td>\n",
       "      <td>9.0</td>\n",
       "      <td>27.0</td>\n",
       "    </tr>\n",
       "    <tr>\n",
       "      <th>3</th>\n",
       "      <td>4.0</td>\n",
       "      <td>16.0</td>\n",
       "      <td>64.0</td>\n",
       "    </tr>\n",
       "    <tr>\n",
       "      <th>4</th>\n",
       "      <td>5.0</td>\n",
       "      <td>25.0</td>\n",
       "      <td>125.0</td>\n",
       "    </tr>\n",
       "    <tr>\n",
       "      <th>...</th>\n",
       "      <td>...</td>\n",
       "      <td>...</td>\n",
       "      <td>...</td>\n",
       "    </tr>\n",
       "    <tr>\n",
       "      <th>29866</th>\n",
       "      <td>3.0</td>\n",
       "      <td>9.0</td>\n",
       "      <td>27.0</td>\n",
       "    </tr>\n",
       "    <tr>\n",
       "      <th>29867</th>\n",
       "      <td>4.0</td>\n",
       "      <td>16.0</td>\n",
       "      <td>64.0</td>\n",
       "    </tr>\n",
       "    <tr>\n",
       "      <th>29868</th>\n",
       "      <td>3.0</td>\n",
       "      <td>9.0</td>\n",
       "      <td>27.0</td>\n",
       "    </tr>\n",
       "    <tr>\n",
       "      <th>29869</th>\n",
       "      <td>3.0</td>\n",
       "      <td>9.0</td>\n",
       "      <td>27.0</td>\n",
       "    </tr>\n",
       "    <tr>\n",
       "      <th>29870</th>\n",
       "      <td>3.0</td>\n",
       "      <td>9.0</td>\n",
       "      <td>27.0</td>\n",
       "    </tr>\n",
       "  </tbody>\n",
       "</table>\n",
       "<p>29871 rows × 3 columns</p>\n",
       "</div>"
      ],
      "text/plain": [
       "       Period  Period^2  Period^3\n",
       "0         8.0      64.0     512.0\n",
       "1         4.0      16.0      64.0\n",
       "2         3.0       9.0      27.0\n",
       "3         4.0      16.0      64.0\n",
       "4         5.0      25.0     125.0\n",
       "...       ...       ...       ...\n",
       "29866     3.0       9.0      27.0\n",
       "29867     4.0      16.0      64.0\n",
       "29868     3.0       9.0      27.0\n",
       "29869     3.0       9.0      27.0\n",
       "29870     3.0       9.0      27.0\n",
       "\n",
       "[29871 rows x 3 columns]"
      ]
     },
     "execution_count": 33,
     "metadata": {},
     "output_type": "execute_result"
    }
   ],
   "source": [
    "poly = PolynomialFeatures(degree=3, include_bias=False)\n",
    "data = poly.fit_transform(train_df[[\"Wave Period\"]]) # return numpy array\n",
    "pd.DataFrame(data, columns=poly.get_feature_names([\"Period\"])) # convert into dataframe"
   ]
  },
  {
   "cell_type": "code",
   "execution_count": 38,
   "id": "ca2a43fe",
   "metadata": {},
   "outputs": [
    {
     "data": {
      "text/plain": [
       "0.04636622127765907"
      ]
     },
     "execution_count": 38,
     "metadata": {},
     "output_type": "execute_result"
    }
   ],
   "source": [
    "m2 = Pipeline([\n",
    "    (\"poly\", PolynomialFeatures(degree=2, include_bias=False)),\n",
    "    ('lr', LinearRegression())\n",
    "])\n",
    "\n",
    "m2.fit(train_df[[\"Wave Period\"]], train_df[\"Wave Height\"])\n",
    "scores = cross_val_score(m2, train_df[[\"Wave Period\"]], train_df[\"Wave Height\"], cv=10)\n",
    "scores.mean()"
   ]
  },
  {
   "cell_type": "markdown",
   "id": "562e411a",
   "metadata": {},
   "source": [
    "###### beach"
   ]
  },
  {
   "cell_type": "code",
   "execution_count": 41,
   "id": "cf58e5b0",
   "metadata": {},
   "outputs": [
    {
     "data": {
      "text/html": [
       "<div>\n",
       "<style scoped>\n",
       "    .dataframe tbody tr th:only-of-type {\n",
       "        vertical-align: middle;\n",
       "    }\n",
       "\n",
       "    .dataframe tbody tr th {\n",
       "        vertical-align: top;\n",
       "    }\n",
       "\n",
       "    .dataframe thead th {\n",
       "        text-align: right;\n",
       "    }\n",
       "</style>\n",
       "<table border=\"1\" class=\"dataframe\">\n",
       "  <thead>\n",
       "    <tr style=\"text-align: right;\">\n",
       "      <th></th>\n",
       "      <th>Beach Name</th>\n",
       "    </tr>\n",
       "  </thead>\n",
       "  <tbody>\n",
       "    <tr>\n",
       "      <th>19962</th>\n",
       "      <td>Montrose Beach</td>\n",
       "    </tr>\n",
       "    <tr>\n",
       "      <th>2283</th>\n",
       "      <td>Ohio Street Beach</td>\n",
       "    </tr>\n",
       "    <tr>\n",
       "      <th>33720</th>\n",
       "      <td>Osterman Beach</td>\n",
       "    </tr>\n",
       "    <tr>\n",
       "      <th>17385</th>\n",
       "      <td>Montrose Beach</td>\n",
       "    </tr>\n",
       "    <tr>\n",
       "      <th>3674</th>\n",
       "      <td>63rd Street Beach</td>\n",
       "    </tr>\n",
       "    <tr>\n",
       "      <th>...</th>\n",
       "      <td>...</td>\n",
       "    </tr>\n",
       "    <tr>\n",
       "      <th>15334</th>\n",
       "      <td>Montrose Beach</td>\n",
       "    </tr>\n",
       "    <tr>\n",
       "      <th>10044</th>\n",
       "      <td>Calumet Beach</td>\n",
       "    </tr>\n",
       "    <tr>\n",
       "      <th>30138</th>\n",
       "      <td>Ohio Street Beach</td>\n",
       "    </tr>\n",
       "    <tr>\n",
       "      <th>29016</th>\n",
       "      <td>Ohio Street Beach</td>\n",
       "    </tr>\n",
       "    <tr>\n",
       "      <th>29339</th>\n",
       "      <td>Ohio Street Beach</td>\n",
       "    </tr>\n",
       "  </tbody>\n",
       "</table>\n",
       "<p>29871 rows × 1 columns</p>\n",
       "</div>"
      ],
      "text/plain": [
       "              Beach Name\n",
       "19962     Montrose Beach\n",
       "2283   Ohio Street Beach\n",
       "33720     Osterman Beach\n",
       "17385     Montrose Beach\n",
       "3674   63rd Street Beach\n",
       "...                  ...\n",
       "15334     Montrose Beach\n",
       "10044      Calumet Beach\n",
       "30138  Ohio Street Beach\n",
       "29016  Ohio Street Beach\n",
       "29339  Ohio Street Beach\n",
       "\n",
       "[29871 rows x 1 columns]"
      ]
     },
     "execution_count": 41,
     "metadata": {},
     "output_type": "execute_result"
    }
   ],
   "source": [
    "train_df[[\"Beach Name\"]]"
   ]
  },
  {
   "cell_type": "code",
   "execution_count": 43,
   "id": "1c942522",
   "metadata": {},
   "outputs": [
    {
     "name": "stderr",
     "output_type": "stream",
     "text": [
      "/home/sabi/system/miniconda3/envs/ml/lib/python3.9/site-packages/sklearn/utils/deprecation.py:87: FutureWarning: Function get_feature_names is deprecated; get_feature_names is deprecated in 1.0 and will be removed in 1.2. Please use get_feature_names_out instead.\n",
      "  warnings.warn(msg, category=FutureWarning)\n"
     ]
    },
    {
     "data": {
      "text/html": [
       "<div>\n",
       "<style scoped>\n",
       "    .dataframe tbody tr th:only-of-type {\n",
       "        vertical-align: middle;\n",
       "    }\n",
       "\n",
       "    .dataframe tbody tr th {\n",
       "        vertical-align: top;\n",
       "    }\n",
       "\n",
       "    .dataframe thead th {\n",
       "        text-align: right;\n",
       "    }\n",
       "</style>\n",
       "<table border=\"1\" class=\"dataframe\">\n",
       "  <thead>\n",
       "    <tr style=\"text-align: right;\">\n",
       "      <th></th>\n",
       "      <th>Beach_63rd Street Beach</th>\n",
       "      <th>Beach_Calumet Beach</th>\n",
       "      <th>Beach_Montrose Beach</th>\n",
       "      <th>Beach_Ohio Street Beach</th>\n",
       "      <th>Beach_Osterman Beach</th>\n",
       "      <th>Beach_Rainbow Beach</th>\n",
       "    </tr>\n",
       "  </thead>\n",
       "  <tbody>\n",
       "    <tr>\n",
       "      <th>0</th>\n",
       "      <td>0.0</td>\n",
       "      <td>0.0</td>\n",
       "      <td>1.0</td>\n",
       "      <td>0.0</td>\n",
       "      <td>0.0</td>\n",
       "      <td>0.0</td>\n",
       "    </tr>\n",
       "    <tr>\n",
       "      <th>1</th>\n",
       "      <td>0.0</td>\n",
       "      <td>0.0</td>\n",
       "      <td>0.0</td>\n",
       "      <td>1.0</td>\n",
       "      <td>0.0</td>\n",
       "      <td>0.0</td>\n",
       "    </tr>\n",
       "    <tr>\n",
       "      <th>2</th>\n",
       "      <td>0.0</td>\n",
       "      <td>0.0</td>\n",
       "      <td>0.0</td>\n",
       "      <td>0.0</td>\n",
       "      <td>1.0</td>\n",
       "      <td>0.0</td>\n",
       "    </tr>\n",
       "    <tr>\n",
       "      <th>3</th>\n",
       "      <td>0.0</td>\n",
       "      <td>0.0</td>\n",
       "      <td>1.0</td>\n",
       "      <td>0.0</td>\n",
       "      <td>0.0</td>\n",
       "      <td>0.0</td>\n",
       "    </tr>\n",
       "    <tr>\n",
       "      <th>4</th>\n",
       "      <td>1.0</td>\n",
       "      <td>0.0</td>\n",
       "      <td>0.0</td>\n",
       "      <td>0.0</td>\n",
       "      <td>0.0</td>\n",
       "      <td>0.0</td>\n",
       "    </tr>\n",
       "    <tr>\n",
       "      <th>...</th>\n",
       "      <td>...</td>\n",
       "      <td>...</td>\n",
       "      <td>...</td>\n",
       "      <td>...</td>\n",
       "      <td>...</td>\n",
       "      <td>...</td>\n",
       "    </tr>\n",
       "    <tr>\n",
       "      <th>29866</th>\n",
       "      <td>0.0</td>\n",
       "      <td>0.0</td>\n",
       "      <td>1.0</td>\n",
       "      <td>0.0</td>\n",
       "      <td>0.0</td>\n",
       "      <td>0.0</td>\n",
       "    </tr>\n",
       "    <tr>\n",
       "      <th>29867</th>\n",
       "      <td>0.0</td>\n",
       "      <td>1.0</td>\n",
       "      <td>0.0</td>\n",
       "      <td>0.0</td>\n",
       "      <td>0.0</td>\n",
       "      <td>0.0</td>\n",
       "    </tr>\n",
       "    <tr>\n",
       "      <th>29868</th>\n",
       "      <td>0.0</td>\n",
       "      <td>0.0</td>\n",
       "      <td>0.0</td>\n",
       "      <td>1.0</td>\n",
       "      <td>0.0</td>\n",
       "      <td>0.0</td>\n",
       "    </tr>\n",
       "    <tr>\n",
       "      <th>29869</th>\n",
       "      <td>0.0</td>\n",
       "      <td>0.0</td>\n",
       "      <td>0.0</td>\n",
       "      <td>1.0</td>\n",
       "      <td>0.0</td>\n",
       "      <td>0.0</td>\n",
       "    </tr>\n",
       "    <tr>\n",
       "      <th>29870</th>\n",
       "      <td>0.0</td>\n",
       "      <td>0.0</td>\n",
       "      <td>0.0</td>\n",
       "      <td>1.0</td>\n",
       "      <td>0.0</td>\n",
       "      <td>0.0</td>\n",
       "    </tr>\n",
       "  </tbody>\n",
       "</table>\n",
       "<p>29871 rows × 6 columns</p>\n",
       "</div>"
      ],
      "text/plain": [
       "       Beach_63rd Street Beach  Beach_Calumet Beach  Beach_Montrose Beach  \\\n",
       "0                          0.0                  0.0                   1.0   \n",
       "1                          0.0                  0.0                   0.0   \n",
       "2                          0.0                  0.0                   0.0   \n",
       "3                          0.0                  0.0                   1.0   \n",
       "4                          1.0                  0.0                   0.0   \n",
       "...                        ...                  ...                   ...   \n",
       "29866                      0.0                  0.0                   1.0   \n",
       "29867                      0.0                  1.0                   0.0   \n",
       "29868                      0.0                  0.0                   0.0   \n",
       "29869                      0.0                  0.0                   0.0   \n",
       "29870                      0.0                  0.0                   0.0   \n",
       "\n",
       "       Beach_Ohio Street Beach  Beach_Osterman Beach  Beach_Rainbow Beach  \n",
       "0                          0.0                   0.0                  0.0  \n",
       "1                          1.0                   0.0                  0.0  \n",
       "2                          0.0                   1.0                  0.0  \n",
       "3                          0.0                   0.0                  0.0  \n",
       "4                          0.0                   0.0                  0.0  \n",
       "...                        ...                   ...                  ...  \n",
       "29866                      0.0                   0.0                  0.0  \n",
       "29867                      0.0                   0.0                  0.0  \n",
       "29868                      1.0                   0.0                  0.0  \n",
       "29869                      1.0                   0.0                  0.0  \n",
       "29870                      1.0                   0.0                  0.0  \n",
       "\n",
       "[29871 rows x 6 columns]"
      ]
     },
     "execution_count": 43,
     "metadata": {},
     "output_type": "execute_result"
    }
   ],
   "source": [
    "oh = OneHotEncoder()\n",
    "data = oh.fit_transform(train_df[[\"Beach Name\"]])\n",
    "pd.DataFrame(data.toarray(), columns=oh.get_feature_names([\"Beach\"]))"
   ]
  },
  {
   "cell_type": "code",
   "execution_count": 51,
   "id": "ccb83bc6",
   "metadata": {},
   "outputs": [
    {
     "data": {
      "text/plain": [
       "0.04777846946086102"
      ]
     },
     "execution_count": 51,
     "metadata": {},
     "output_type": "execute_result"
    }
   ],
   "source": [
    "m3 = Pipeline([\n",
    "    (\"oh\", OneHotEncoder()),\n",
    "    ('lr', LinearRegression())\n",
    "])\n",
    "\n",
    "scores = cross_val_score(m3, train_df[[\"Wave Period\"]], train_df[\"Wave Height\"], cv=10)\n",
    "scores.mean()"
   ]
  },
  {
   "cell_type": "markdown",
   "id": "6829e0e0",
   "metadata": {},
   "source": [
    "###### beach and wave period"
   ]
  },
  {
   "cell_type": "code",
   "execution_count": 52,
   "id": "2b29997f",
   "metadata": {},
   "outputs": [
    {
     "data": {
      "text/plain": [
       "0.08510588041595953"
      ]
     },
     "execution_count": 52,
     "metadata": {},
     "output_type": "execute_result"
    }
   ],
   "source": [
    "m4 = Pipeline([\n",
    "    (\"both\", make_column_transformer((OneHotEncoder(), [\"Beach Name\"]), (PolynomialFeatures(degree=2, include_bias=False), [\"Wave Period\"]))),\n",
    "    ('lr', LinearRegression())\n",
    "])\n",
    "\n",
    "scores = cross_val_score(m4, train_df[[\"Beach Name\", \"Wave Period\"]], train_df[\"Wave Height\"], cv=10)\n",
    "scores.mean()"
   ]
  },
  {
   "cell_type": "code",
   "execution_count": 55,
   "id": "ca773d26",
   "metadata": {},
   "outputs": [
    {
     "data": {
      "text/plain": [
       "0.09525903345771669"
      ]
     },
     "execution_count": 55,
     "metadata": {},
     "output_type": "execute_result"
    }
   ],
   "source": [
    "m4.fit(train_df[[\"Beach Name\", \"Wave Period\"]], train_df[\"Wave Height\"])\n",
    "m4.score(test_df[[\"Beach Name\", \"Wave Period\"]], test_df[\"Wave Height\"])"
   ]
  },
  {
   "cell_type": "code",
   "execution_count": null,
   "id": "0d5bfa69",
   "metadata": {},
   "outputs": [],
   "source": []
  }
 ],
 "metadata": {
  "kernelspec": {
   "display_name": "Python [conda env:ml] *",
   "language": "python",
   "name": "conda-env-ml-py"
  },
  "language_info": {
   "codemirror_mode": {
    "name": "ipython",
    "version": 3
   },
   "file_extension": ".py",
   "mimetype": "text/x-python",
   "name": "python",
   "nbconvert_exporter": "python",
   "pygments_lexer": "ipython3",
   "version": "3.9.7"
  }
 },
 "nbformat": 4,
 "nbformat_minor": 5
}
